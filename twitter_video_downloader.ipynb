{
 "cells": [
  {
   "cell_type": "code",
   "execution_count": 1,
   "metadata": {},
   "outputs": [
    {
     "name": "stdout",
     "output_type": "stream",
     "text": [
      "Setup Complete\n"
     ]
    }
   ],
   "source": [
    "import requests\n",
    "import os\n",
    "import yt_dlp as youtube_dl\n",
    "\n",
    "print(\"Setup Complete\")\n"
   ]
  },
  {
   "cell_type": "code",
   "execution_count": 3,
   "metadata": {},
   "outputs": [
    {
     "name": "stdout",
     "output_type": "stream",
     "text": [
      "[twitter] Extracting URL: https://x.com/MIT_CSAIL/status/1553412603493289984\n",
      "[twitter] 1553412603493289984: Downloading guest token\n",
      "[twitter] 1553412603493289984: Downloading GraphQL JSON\n",
      "[twitter] 1553412603493289984: Downloading m3u8 information\n",
      "[info] 1553078867799277569: Downloading 1 format(s): http-2176\n",
      "[download] Destination: output_video/MIT CSAIL - Released this month in 1987： Rick Astley’s “Never Gonna Give You Up.”   You can now Rickroll in 4K, thanks to machine learning..mp4\n",
      "[download] 100% of    2.78MiB in 00:00:01 at 2.04MiB/s\n",
      "Download successful!\n"
     ]
    }
   ],
   "source": [
    "def download_twitter_video(url: str) -> None:\n",
    "    \"\"\"\n",
    "    Downloads a video from Twitter/X using yt-dlp.\n",
    "    \n",
    "    Args:\n",
    "        url (str): URL of the Twitter/X video to download\n",
    "        \n",
    "    Returns:\n",
    "        None\n",
    "    \"\"\"\n",
    "    try:\n",
    "        # Create output directory if needed\n",
    "        output_dir = 'output_video'\n",
    "        os.makedirs(output_dir, exist_ok=True)\n",
    "        \n",
    "        # Configure yt-dlp options\n",
    "        ydl_opts = {\n",
    "            'outtmpl': f'{output_dir}/%(title)s.%(ext)s',\n",
    "            'format': 'best',\n",
    "            'quiet': False,\n",
    "            'no_warnings': False\n",
    "        }\n",
    "                \n",
    "        # Download video\n",
    "        with youtube_dl.YoutubeDL(ydl_opts) as ydl:\n",
    "            ydl.download([url])\n",
    "            print(\"Download successful!\")\n",
    "            \n",
    "    except Exception as e:\n",
    "        print(f\"An error occurred: {str(e)}\")\n",
    "        raise\n",
    "\n",
    "if __name__ == \"__main__\":\n",
    "    twitter_video_url = \"https://x.com/MIT_CSAIL/status/1553412603493289984\"\n",
    "    download_twitter_video(twitter_video_url)\n"
   ]
  }
 ],
 "metadata": {
  "kernelspec": {
   "display_name": "base",
   "language": "python",
   "name": "python3"
  },
  "language_info": {
   "codemirror_mode": {
    "name": "ipython",
    "version": 3
   },
   "file_extension": ".py",
   "mimetype": "text/x-python",
   "name": "python",
   "nbconvert_exporter": "python",
   "pygments_lexer": "ipython3",
   "version": "3.10.15"
  }
 },
 "nbformat": 4,
 "nbformat_minor": 2
}
